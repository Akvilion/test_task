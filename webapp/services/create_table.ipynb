{
 "metadata": {
  "language_info": {
   "codemirror_mode": {
    "name": "ipython",
    "version": 3
   },
   "file_extension": ".py",
   "mimetype": "text/x-python",
   "name": "python",
   "nbconvert_exporter": "python",
   "pygments_lexer": "ipython3",
   "version": "3.8.3-final"
  },
  "orig_nbformat": 2,
  "kernelspec": {
   "name": "python3",
   "display_name": "Python 3",
   "language": "python"
  }
 },
 "nbformat": 4,
 "nbformat_minor": 2,
 "cells": [
  {
   "cell_type": "code",
   "execution_count": 1,
   "metadata": {},
   "outputs": [],
   "source": [
    "from faker import Faker\n",
    "import pandas as pd"
   ]
  },
  {
   "cell_type": "code",
   "execution_count": 2,
   "metadata": {},
   "outputs": [],
   "source": [
    "fake = Faker()"
   ]
  },
  {
   "cell_type": "code",
   "execution_count": 3,
   "metadata": {},
   "outputs": [],
   "source": [
    "x = {'table_name': 'n1', 'table_column': ['c1', 'c2', 'c3', 'c4'], 'columns_type': ['street_address', 'name', 'phone_number', 'zipcode']}"
   ]
  },
  {
   "cell_type": "code",
   "execution_count": 4,
   "metadata": {},
   "outputs": [],
   "source": [
    "table = pd.DataFrame(columns=x['table_column'], index=range(1000))"
   ]
  },
  {
   "cell_type": "code",
   "execution_count": 5,
   "metadata": {},
   "outputs": [],
   "source": [
    "af = [getattr(fake, field) for field in x['columns_type']]"
   ]
  },
  {
   "cell_type": "code",
   "execution_count": 7,
   "metadata": {},
   "outputs": [],
   "source": [
    "for i in range(len(table.columns)):\n",
    "    table[table.columns[i]] = [af[i]() for x in table[table.columns[i]]]"
   ]
  },
  {
   "cell_type": "code",
   "execution_count": 8,
   "metadata": {},
   "outputs": [
    {
     "output_type": "execute_result",
     "data": {
      "text/plain": [
       "                                 c1                  c2                   c3  \\\n",
       "0           484 Jill Lane Suite 721    Richard Woodward           7883776937   \n",
       "1                 61110 Ellis Locks        Kelly Thomas        (718)372-4414   \n",
       "2                  672 Jerry Forest         Mary Tanner   025.683.5425x20357   \n",
       "3                  04293 Daryl Camp         Ashley Page  +1-254-133-3266x860   \n",
       "4            89412 Gonzalez Springs     Jeffrey Elliott           8503622188   \n",
       "..                              ...                 ...                  ...   \n",
       "995             9535 Maxwell Common          Scott Kane  (286)685-2763x74188   \n",
       "996               978 Grant Mission        Trevor Mills     933-265-6621x021   \n",
       "997      262 Wallace Alley Apt. 030        Sheila Banks  +1-028-200-5935x310   \n",
       "998  125 Walker Mountains Suite 460       Jason Russell    257-186-1250x9630   \n",
       "999       261 Kelly Mills Suite 012  Krystal Stephenson   178-070-8008x30558   \n",
       "\n",
       "        c4  \n",
       "0    33550  \n",
       "1    27244  \n",
       "2    59004  \n",
       "3    43260  \n",
       "4    64927  \n",
       "..     ...  \n",
       "995  59625  \n",
       "996  86175  \n",
       "997  71617  \n",
       "998  41199  \n",
       "999  77449  \n",
       "\n",
       "[1000 rows x 4 columns]"
      ],
      "text/html": "<div>\n<style scoped>\n    .dataframe tbody tr th:only-of-type {\n        vertical-align: middle;\n    }\n\n    .dataframe tbody tr th {\n        vertical-align: top;\n    }\n\n    .dataframe thead th {\n        text-align: right;\n    }\n</style>\n<table border=\"1\" class=\"dataframe\">\n  <thead>\n    <tr style=\"text-align: right;\">\n      <th></th>\n      <th>c1</th>\n      <th>c2</th>\n      <th>c3</th>\n      <th>c4</th>\n    </tr>\n  </thead>\n  <tbody>\n    <tr>\n      <th>0</th>\n      <td>484 Jill Lane Suite 721</td>\n      <td>Richard Woodward</td>\n      <td>7883776937</td>\n      <td>33550</td>\n    </tr>\n    <tr>\n      <th>1</th>\n      <td>61110 Ellis Locks</td>\n      <td>Kelly Thomas</td>\n      <td>(718)372-4414</td>\n      <td>27244</td>\n    </tr>\n    <tr>\n      <th>2</th>\n      <td>672 Jerry Forest</td>\n      <td>Mary Tanner</td>\n      <td>025.683.5425x20357</td>\n      <td>59004</td>\n    </tr>\n    <tr>\n      <th>3</th>\n      <td>04293 Daryl Camp</td>\n      <td>Ashley Page</td>\n      <td>+1-254-133-3266x860</td>\n      <td>43260</td>\n    </tr>\n    <tr>\n      <th>4</th>\n      <td>89412 Gonzalez Springs</td>\n      <td>Jeffrey Elliott</td>\n      <td>8503622188</td>\n      <td>64927</td>\n    </tr>\n    <tr>\n      <th>...</th>\n      <td>...</td>\n      <td>...</td>\n      <td>...</td>\n      <td>...</td>\n    </tr>\n    <tr>\n      <th>995</th>\n      <td>9535 Maxwell Common</td>\n      <td>Scott Kane</td>\n      <td>(286)685-2763x74188</td>\n      <td>59625</td>\n    </tr>\n    <tr>\n      <th>996</th>\n      <td>978 Grant Mission</td>\n      <td>Trevor Mills</td>\n      <td>933-265-6621x021</td>\n      <td>86175</td>\n    </tr>\n    <tr>\n      <th>997</th>\n      <td>262 Wallace Alley Apt. 030</td>\n      <td>Sheila Banks</td>\n      <td>+1-028-200-5935x310</td>\n      <td>71617</td>\n    </tr>\n    <tr>\n      <th>998</th>\n      <td>125 Walker Mountains Suite 460</td>\n      <td>Jason Russell</td>\n      <td>257-186-1250x9630</td>\n      <td>41199</td>\n    </tr>\n    <tr>\n      <th>999</th>\n      <td>261 Kelly Mills Suite 012</td>\n      <td>Krystal Stephenson</td>\n      <td>178-070-8008x30558</td>\n      <td>77449</td>\n    </tr>\n  </tbody>\n</table>\n<p>1000 rows × 4 columns</p>\n</div>"
     },
     "metadata": {},
     "execution_count": 8
    }
   ],
   "source": [
    "table"
   ]
  }
 ]
}